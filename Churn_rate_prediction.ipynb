{
  "nbformat": 4,
  "nbformat_minor": 0,
  "metadata": {
    "colab": {
      "name": "Untitled7.ipynb",
      "provenance": []
    },
    "kernelspec": {
      "name": "python3",
      "display_name": "Python 3"
    }
  },
  "cells": [
    {
      "cell_type": "code",
      "metadata": {
        "id": "hGrHXp4ovLJY",
        "colab_type": "code",
        "colab": {}
      },
      "source": [
        "import numpy as np\n",
        "import pandas as pd\n",
        "import tensorflow as tf"
      ],
      "execution_count": null,
      "outputs": []
    },
    {
      "cell_type": "code",
      "metadata": {
        "id": "YUHq5F_0xOEQ",
        "colab_type": "code",
        "colab": {
          "base_uri": "https://localhost:8080/",
          "height": 35
        },
        "outputId": "997945c3-1a52-4d64-bd63-487faa20246e"
      },
      "source": [
        "tf.__version__"
      ],
      "execution_count": null,
      "outputs": [
        {
          "output_type": "execute_result",
          "data": {
            "application/vnd.google.colaboratory.intrinsic+json": {
              "type": "string"
            },
            "text/plain": [
              "'2.3.0'"
            ]
          },
          "metadata": {
            "tags": []
          },
          "execution_count": 2
        }
      ]
    },
    {
      "cell_type": "code",
      "metadata": {
        "id": "SfA9E1DLxToC",
        "colab_type": "code",
        "colab": {}
      },
      "source": [
        "dataset = pd.read_csv('Churn_Modelling.csv')\n",
        "X = dataset.iloc[:, 3:-1].values\n",
        "y = dataset.iloc[:, -1].values"
      ],
      "execution_count": null,
      "outputs": []
    },
    {
      "cell_type": "code",
      "metadata": {
        "id": "4gvnKD88y09V",
        "colab_type": "code",
        "colab": {
          "base_uri": "https://localhost:8080/",
          "height": 136
        },
        "outputId": "6a64bda3-eba7-44ac-be13-3a47292ec731"
      },
      "source": [
        "print(X)"
      ],
      "execution_count": null,
      "outputs": [
        {
          "output_type": "stream",
          "text": [
            "[[619 'France' 'Female' ... 1 1 101348.88]\n",
            " [608 'Spain' 'Female' ... 0 1 112542.58]\n",
            " [502 'France' 'Female' ... 1 0 113931.57]\n",
            " ...\n",
            " [709 'France' 'Female' ... 0 1 42085.58]\n",
            " [772 'Germany' 'Male' ... 1 0 92888.52]\n",
            " [792 'France' 'Female' ... 1 0 38190.78]]\n"
          ],
          "name": "stdout"
        }
      ]
    },
    {
      "cell_type": "code",
      "metadata": {
        "id": "1u_BsShdy7X8",
        "colab_type": "code",
        "colab": {
          "base_uri": "https://localhost:8080/",
          "height": 34
        },
        "outputId": "df0d398e-b8b6-4673-9553-2182559cfa13"
      },
      "source": [
        "print(y)"
      ],
      "execution_count": null,
      "outputs": [
        {
          "output_type": "stream",
          "text": [
            "[1 0 1 ... 1 1 0]\n"
          ],
          "name": "stdout"
        }
      ]
    },
    {
      "cell_type": "code",
      "metadata": {
        "id": "bqeQAz5H1UUO",
        "colab_type": "code",
        "colab": {}
      },
      "source": [
        "from sklearn.preprocessing import LabelEncoder\n",
        "le = LabelEncoder()\n",
        "X[:, 2] = le.fit_transform(X[:, 2])"
      ],
      "execution_count": null,
      "outputs": []
    },
    {
      "cell_type": "code",
      "metadata": {
        "id": "0eyxyUrI1WpH",
        "colab_type": "code",
        "colab": {
          "base_uri": "https://localhost:8080/",
          "height": 136
        },
        "outputId": "c318217c-23f0-4032-eae8-4dbf25b8872e"
      },
      "source": [
        "print(X)"
      ],
      "execution_count": null,
      "outputs": [
        {
          "output_type": "stream",
          "text": [
            "[[619 'France' 0 ... 1 1 101348.88]\n",
            " [608 'Spain' 0 ... 0 1 112542.58]\n",
            " [502 'France' 0 ... 1 0 113931.57]\n",
            " ...\n",
            " [709 'France' 0 ... 0 1 42085.58]\n",
            " [772 'Germany' 1 ... 1 0 92888.52]\n",
            " [792 'France' 0 ... 1 0 38190.78]]\n"
          ],
          "name": "stdout"
        }
      ]
    },
    {
      "cell_type": "code",
      "metadata": {
        "id": "65oEBxBq1dIr",
        "colab_type": "code",
        "colab": {}
      },
      "source": [
        "from sklearn.compose import ColumnTransformer\n",
        "from sklearn.preprocessing import OneHotEncoder\n",
        "ct = ColumnTransformer(transformers=[('encoder', OneHotEncoder(), [1])], remainder='passthrough')\n",
        "X = np.array(ct.fit_transform(X))"
      ],
      "execution_count": null,
      "outputs": []
    },
    {
      "cell_type": "code",
      "metadata": {
        "id": "VibE7WVO2cQO",
        "colab_type": "code",
        "colab": {
          "base_uri": "https://localhost:8080/",
          "height": 136
        },
        "outputId": "34cb406d-bf41-4193-fe49-cff7a1db8516"
      },
      "source": [
        "print(X)"
      ],
      "execution_count": null,
      "outputs": [
        {
          "output_type": "stream",
          "text": [
            "[[1.0 0.0 0.0 ... 1 1 101348.88]\n",
            " [0.0 0.0 1.0 ... 0 1 112542.58]\n",
            " [1.0 0.0 0.0 ... 1 0 113931.57]\n",
            " ...\n",
            " [1.0 0.0 0.0 ... 0 1 42085.58]\n",
            " [0.0 1.0 0.0 ... 1 0 92888.52]\n",
            " [1.0 0.0 0.0 ... 1 0 38190.78]]\n"
          ],
          "name": "stdout"
        }
      ]
    },
    {
      "cell_type": "code",
      "metadata": {
        "id": "DE1SLPBi2iNb",
        "colab_type": "code",
        "colab": {}
      },
      "source": [
        "from sklearn.model_selection import train_test_split\n",
        "X_train, X_test, y_train, y_test = train_test_split(X, y, test_size = 0.2, random_state = 0)"
      ],
      "execution_count": null,
      "outputs": []
    },
    {
      "cell_type": "code",
      "metadata": {
        "id": "oISyO4i5432a",
        "colab_type": "code",
        "colab": {}
      },
      "source": [
        "from sklearn.preprocessing import StandardScaler\n",
        "sc = StandardScaler()\n",
        "X_train = sc.fit_transform(X_train)\n",
        "X_test = sc.transform(X_test)"
      ],
      "execution_count": null,
      "outputs": []
    },
    {
      "cell_type": "code",
      "metadata": {
        "id": "-RwrILwE45uz",
        "colab_type": "code",
        "colab": {
          "base_uri": "https://localhost:8080/",
          "height": 136
        },
        "outputId": "fc7a170b-4562-4c0b-a8aa-35683aa8fb8c"
      },
      "source": [
        "print(X)"
      ],
      "execution_count": null,
      "outputs": [
        {
          "output_type": "stream",
          "text": [
            "[[1.0 0.0 0.0 ... 1 1 101348.88]\n",
            " [0.0 0.0 1.0 ... 0 1 112542.58]\n",
            " [1.0 0.0 0.0 ... 1 0 113931.57]\n",
            " ...\n",
            " [1.0 0.0 0.0 ... 0 1 42085.58]\n",
            " [0.0 1.0 0.0 ... 1 0 92888.52]\n",
            " [1.0 0.0 0.0 ... 1 0 38190.78]]\n"
          ],
          "name": "stdout"
        }
      ]
    },
    {
      "cell_type": "code",
      "metadata": {
        "id": "nPv_q-9q5CIG",
        "colab_type": "code",
        "colab": {}
      },
      "source": [
        "ann = tf.keras.models.Sequential()"
      ],
      "execution_count": null,
      "outputs": []
    },
    {
      "cell_type": "code",
      "metadata": {
        "id": "qgcKz_2G9iyf",
        "colab_type": "code",
        "colab": {}
      },
      "source": [
        "ann.add(tf.keras.layers.Dense(units=6, activation='relu'))"
      ],
      "execution_count": null,
      "outputs": []
    },
    {
      "cell_type": "code",
      "metadata": {
        "id": "gyhDwhsB9jTW",
        "colab_type": "code",
        "colab": {}
      },
      "source": [
        "ann.add(tf.keras.layers.Dense(units=6, activation='relu'))"
      ],
      "execution_count": null,
      "outputs": []
    },
    {
      "cell_type": "code",
      "metadata": {
        "id": "pPLt3EOV9rVf",
        "colab_type": "code",
        "colab": {}
      },
      "source": [
        "ann.add(tf.keras.layers.Dense(units=1, activation='sigmoid'))"
      ],
      "execution_count": null,
      "outputs": []
    },
    {
      "cell_type": "code",
      "metadata": {
        "id": "G7IEt4rC-aPL",
        "colab_type": "code",
        "colab": {}
      },
      "source": [
        "ann.compile(optimizer = 'adam', loss = 'binary_crossentropy', metrics = ['accuracy'])"
      ],
      "execution_count": null,
      "outputs": []
    },
    {
      "cell_type": "code",
      "metadata": {
        "id": "FYsP10LcJNKi",
        "colab_type": "code",
        "colab": {
          "base_uri": "https://localhost:8080/",
          "height": 1000
        },
        "outputId": "0e6376d3-8bc3-4bd2-dd8a-f94d1cf6c073"
      },
      "source": [
        "ann.fit(X_train, y_train, batch_size = 32, epochs = 100)"
      ],
      "execution_count": null,
      "outputs": [
        {
          "output_type": "stream",
          "text": [
            "Epoch 1/100\n",
            "250/250 [==============================] - 0s 818us/step - loss: 0.5595 - accuracy: 0.7695\n",
            "Epoch 2/100\n",
            "250/250 [==============================] - 0s 761us/step - loss: 0.4754 - accuracy: 0.8044\n",
            "Epoch 3/100\n",
            "250/250 [==============================] - 0s 778us/step - loss: 0.4443 - accuracy: 0.8100\n",
            "Epoch 4/100\n",
            "250/250 [==============================] - 0s 894us/step - loss: 0.4308 - accuracy: 0.8166\n",
            "Epoch 5/100\n",
            "250/250 [==============================] - 0s 778us/step - loss: 0.4242 - accuracy: 0.8198\n",
            "Epoch 6/100\n",
            "250/250 [==============================] - 0s 837us/step - loss: 0.4192 - accuracy: 0.8202\n",
            "Epoch 7/100\n",
            "250/250 [==============================] - 0s 917us/step - loss: 0.4148 - accuracy: 0.8217\n",
            "Epoch 8/100\n",
            "250/250 [==============================] - 0s 914us/step - loss: 0.4120 - accuracy: 0.8234\n",
            "Epoch 9/100\n",
            "250/250 [==============================] - 0s 853us/step - loss: 0.4089 - accuracy: 0.8253\n",
            "Epoch 10/100\n",
            "250/250 [==============================] - 0s 848us/step - loss: 0.4060 - accuracy: 0.8266\n",
            "Epoch 11/100\n",
            "250/250 [==============================] - 0s 791us/step - loss: 0.4035 - accuracy: 0.8251\n",
            "Epoch 12/100\n",
            "250/250 [==============================] - 0s 741us/step - loss: 0.4014 - accuracy: 0.8254\n",
            "Epoch 13/100\n",
            "250/250 [==============================] - 0s 774us/step - loss: 0.3982 - accuracy: 0.8281\n",
            "Epoch 14/100\n",
            "250/250 [==============================] - 0s 755us/step - loss: 0.3956 - accuracy: 0.8271\n",
            "Epoch 15/100\n",
            "250/250 [==============================] - 0s 772us/step - loss: 0.3928 - accuracy: 0.8264\n",
            "Epoch 16/100\n",
            "250/250 [==============================] - 0s 814us/step - loss: 0.3902 - accuracy: 0.8280\n",
            "Epoch 17/100\n",
            "250/250 [==============================] - 0s 784us/step - loss: 0.3872 - accuracy: 0.8281\n",
            "Epoch 18/100\n",
            "250/250 [==============================] - 0s 855us/step - loss: 0.3848 - accuracy: 0.8278\n",
            "Epoch 19/100\n",
            "250/250 [==============================] - 0s 801us/step - loss: 0.3820 - accuracy: 0.8278\n",
            "Epoch 20/100\n",
            "250/250 [==============================] - 0s 784us/step - loss: 0.3791 - accuracy: 0.8331\n",
            "Epoch 21/100\n",
            "250/250 [==============================] - 0s 790us/step - loss: 0.3750 - accuracy: 0.8407\n",
            "Epoch 22/100\n",
            "250/250 [==============================] - 0s 766us/step - loss: 0.3714 - accuracy: 0.8422\n",
            "Epoch 23/100\n",
            "250/250 [==============================] - 0s 813us/step - loss: 0.3676 - accuracy: 0.8424\n",
            "Epoch 24/100\n",
            "250/250 [==============================] - 0s 801us/step - loss: 0.3638 - accuracy: 0.8460\n",
            "Epoch 25/100\n",
            "250/250 [==============================] - 0s 757us/step - loss: 0.3599 - accuracy: 0.8486\n",
            "Epoch 26/100\n",
            "250/250 [==============================] - 0s 778us/step - loss: 0.3572 - accuracy: 0.8505\n",
            "Epoch 27/100\n",
            "250/250 [==============================] - 0s 758us/step - loss: 0.3551 - accuracy: 0.8549\n",
            "Epoch 28/100\n",
            "250/250 [==============================] - 0s 763us/step - loss: 0.3537 - accuracy: 0.8561\n",
            "Epoch 29/100\n",
            "250/250 [==============================] - 0s 759us/step - loss: 0.3522 - accuracy: 0.8537\n",
            "Epoch 30/100\n",
            "250/250 [==============================] - 0s 753us/step - loss: 0.3505 - accuracy: 0.8544\n",
            "Epoch 31/100\n",
            "250/250 [==============================] - 0s 812us/step - loss: 0.3500 - accuracy: 0.8559\n",
            "Epoch 32/100\n",
            "250/250 [==============================] - 0s 750us/step - loss: 0.3490 - accuracy: 0.8558\n",
            "Epoch 33/100\n",
            "250/250 [==============================] - 0s 1ms/step - loss: 0.3489 - accuracy: 0.8561\n",
            "Epoch 34/100\n",
            "250/250 [==============================] - 0s 1ms/step - loss: 0.3477 - accuracy: 0.8553\n",
            "Epoch 35/100\n",
            "250/250 [==============================] - 0s 2ms/step - loss: 0.3476 - accuracy: 0.8565\n",
            "Epoch 36/100\n",
            "250/250 [==============================] - 0s 2ms/step - loss: 0.3466 - accuracy: 0.8568\n",
            "Epoch 37/100\n",
            "250/250 [==============================] - 0s 1ms/step - loss: 0.3464 - accuracy: 0.8586\n",
            "Epoch 38/100\n",
            "250/250 [==============================] - 0s 1ms/step - loss: 0.3459 - accuracy: 0.8597\n",
            "Epoch 39/100\n",
            "250/250 [==============================] - 0s 1ms/step - loss: 0.3458 - accuracy: 0.8579\n",
            "Epoch 40/100\n",
            "250/250 [==============================] - 0s 1ms/step - loss: 0.3451 - accuracy: 0.8586\n",
            "Epoch 41/100\n",
            "250/250 [==============================] - 0s 1ms/step - loss: 0.3446 - accuracy: 0.8606\n",
            "Epoch 42/100\n",
            "250/250 [==============================] - 0s 1ms/step - loss: 0.3451 - accuracy: 0.8576\n",
            "Epoch 43/100\n",
            "250/250 [==============================] - 0s 1ms/step - loss: 0.3443 - accuracy: 0.8584\n",
            "Epoch 44/100\n",
            "250/250 [==============================] - 0s 2ms/step - loss: 0.3441 - accuracy: 0.8585\n",
            "Epoch 45/100\n",
            "250/250 [==============================] - 0s 2ms/step - loss: 0.3441 - accuracy: 0.8574\n",
            "Epoch 46/100\n",
            "250/250 [==============================] - 0s 1ms/step - loss: 0.3438 - accuracy: 0.8599\n",
            "Epoch 47/100\n",
            "250/250 [==============================] - 0s 1ms/step - loss: 0.3435 - accuracy: 0.8611\n",
            "Epoch 48/100\n",
            "250/250 [==============================] - 0s 1ms/step - loss: 0.3434 - accuracy: 0.8589\n",
            "Epoch 49/100\n",
            "250/250 [==============================] - 0s 1ms/step - loss: 0.3434 - accuracy: 0.8597\n",
            "Epoch 50/100\n",
            "250/250 [==============================] - 0s 1ms/step - loss: 0.3429 - accuracy: 0.8604\n",
            "Epoch 51/100\n",
            "250/250 [==============================] - 0s 1ms/step - loss: 0.3431 - accuracy: 0.8597\n",
            "Epoch 52/100\n",
            "250/250 [==============================] - 0s 1ms/step - loss: 0.3427 - accuracy: 0.8609\n",
            "Epoch 53/100\n",
            "250/250 [==============================] - 0s 1ms/step - loss: 0.3429 - accuracy: 0.8597\n",
            "Epoch 54/100\n",
            "250/250 [==============================] - 0s 1ms/step - loss: 0.3425 - accuracy: 0.8614\n",
            "Epoch 55/100\n",
            "250/250 [==============================] - 0s 1ms/step - loss: 0.3422 - accuracy: 0.8604\n",
            "Epoch 56/100\n",
            "250/250 [==============================] - 0s 1ms/step - loss: 0.3423 - accuracy: 0.8606\n",
            "Epoch 57/100\n",
            "250/250 [==============================] - 0s 1ms/step - loss: 0.3419 - accuracy: 0.8625\n",
            "Epoch 58/100\n",
            "250/250 [==============================] - 0s 1ms/step - loss: 0.3415 - accuracy: 0.8606\n",
            "Epoch 59/100\n",
            "250/250 [==============================] - 0s 2ms/step - loss: 0.3419 - accuracy: 0.8631\n",
            "Epoch 60/100\n",
            "250/250 [==============================] - 0s 1ms/step - loss: 0.3420 - accuracy: 0.8610\n",
            "Epoch 61/100\n",
            "250/250 [==============================] - 0s 786us/step - loss: 0.3415 - accuracy: 0.8604\n",
            "Epoch 62/100\n",
            "250/250 [==============================] - 0s 876us/step - loss: 0.3413 - accuracy: 0.8611\n",
            "Epoch 63/100\n",
            "250/250 [==============================] - 0s 944us/step - loss: 0.3414 - accuracy: 0.8606\n",
            "Epoch 64/100\n",
            "250/250 [==============================] - 0s 900us/step - loss: 0.3415 - accuracy: 0.8620\n",
            "Epoch 65/100\n",
            "250/250 [==============================] - 0s 857us/step - loss: 0.3409 - accuracy: 0.8604\n",
            "Epoch 66/100\n",
            "250/250 [==============================] - 0s 795us/step - loss: 0.3411 - accuracy: 0.8640\n",
            "Epoch 67/100\n",
            "250/250 [==============================] - 0s 785us/step - loss: 0.3415 - accuracy: 0.8597\n",
            "Epoch 68/100\n",
            "250/250 [==============================] - 0s 810us/step - loss: 0.3414 - accuracy: 0.8616\n",
            "Epoch 69/100\n",
            "250/250 [==============================] - 0s 801us/step - loss: 0.3408 - accuracy: 0.8614\n",
            "Epoch 70/100\n",
            "250/250 [==============================] - 0s 781us/step - loss: 0.3408 - accuracy: 0.8631\n",
            "Epoch 71/100\n",
            "250/250 [==============================] - 0s 857us/step - loss: 0.3415 - accuracy: 0.8612\n",
            "Epoch 72/100\n",
            "250/250 [==============================] - 0s 886us/step - loss: 0.3409 - accuracy: 0.8611\n",
            "Epoch 73/100\n",
            "250/250 [==============================] - 0s 960us/step - loss: 0.3405 - accuracy: 0.8619\n",
            "Epoch 74/100\n",
            "250/250 [==============================] - 0s 801us/step - loss: 0.3404 - accuracy: 0.8637\n",
            "Epoch 75/100\n",
            "250/250 [==============================] - 0s 855us/step - loss: 0.3405 - accuracy: 0.8609\n",
            "Epoch 76/100\n",
            "250/250 [==============================] - 0s 939us/step - loss: 0.3400 - accuracy: 0.8614\n",
            "Epoch 77/100\n",
            "250/250 [==============================] - 0s 926us/step - loss: 0.3404 - accuracy: 0.8636\n",
            "Epoch 78/100\n",
            "250/250 [==============================] - 0s 849us/step - loss: 0.3405 - accuracy: 0.8622\n",
            "Epoch 79/100\n",
            "250/250 [==============================] - 0s 788us/step - loss: 0.3397 - accuracy: 0.8618\n",
            "Epoch 80/100\n",
            "250/250 [==============================] - 0s 901us/step - loss: 0.3398 - accuracy: 0.8609\n",
            "Epoch 81/100\n",
            "250/250 [==============================] - 0s 932us/step - loss: 0.3398 - accuracy: 0.8630\n",
            "Epoch 82/100\n",
            "250/250 [==============================] - 0s 914us/step - loss: 0.3398 - accuracy: 0.8629\n",
            "Epoch 83/100\n",
            "250/250 [==============================] - 0s 885us/step - loss: 0.3396 - accuracy: 0.8611\n",
            "Epoch 84/100\n",
            "250/250 [==============================] - 0s 754us/step - loss: 0.3395 - accuracy: 0.8610\n",
            "Epoch 85/100\n",
            "250/250 [==============================] - 0s 756us/step - loss: 0.3394 - accuracy: 0.8611\n",
            "Epoch 86/100\n",
            "250/250 [==============================] - 0s 785us/step - loss: 0.3390 - accuracy: 0.8620\n",
            "Epoch 87/100\n",
            "250/250 [==============================] - 0s 773us/step - loss: 0.3394 - accuracy: 0.8610\n",
            "Epoch 88/100\n",
            "250/250 [==============================] - 0s 786us/step - loss: 0.3391 - accuracy: 0.8624\n",
            "Epoch 89/100\n",
            "250/250 [==============================] - 0s 790us/step - loss: 0.3390 - accuracy: 0.8608\n",
            "Epoch 90/100\n",
            "250/250 [==============================] - 0s 946us/step - loss: 0.3390 - accuracy: 0.8639\n",
            "Epoch 91/100\n",
            "250/250 [==============================] - 0s 906us/step - loss: 0.3393 - accuracy: 0.8627\n",
            "Epoch 92/100\n",
            "250/250 [==============================] - 0s 860us/step - loss: 0.3390 - accuracy: 0.8630\n",
            "Epoch 93/100\n",
            "250/250 [==============================] - 0s 813us/step - loss: 0.3388 - accuracy: 0.8622\n",
            "Epoch 94/100\n",
            "250/250 [==============================] - 0s 757us/step - loss: 0.3386 - accuracy: 0.8619\n",
            "Epoch 95/100\n",
            "250/250 [==============================] - 0s 769us/step - loss: 0.3393 - accuracy: 0.8633\n",
            "Epoch 96/100\n",
            "250/250 [==============================] - 0s 818us/step - loss: 0.3385 - accuracy: 0.8635\n",
            "Epoch 97/100\n",
            "250/250 [==============================] - 0s 826us/step - loss: 0.3386 - accuracy: 0.8625\n",
            "Epoch 98/100\n",
            "250/250 [==============================] - 0s 884us/step - loss: 0.3383 - accuracy: 0.8625\n",
            "Epoch 99/100\n",
            "250/250 [==============================] - 0s 776us/step - loss: 0.3389 - accuracy: 0.8622\n",
            "Epoch 100/100\n",
            "250/250 [==============================] - 0s 784us/step - loss: 0.3387 - accuracy: 0.8633\n"
          ],
          "name": "stdout"
        },
        {
          "output_type": "execute_result",
          "data": {
            "text/plain": [
              "<tensorflow.python.keras.callbacks.History at 0x7f8e30ae8550>"
            ]
          },
          "metadata": {
            "tags": []
          },
          "execution_count": 19
        }
      ]
    },
    {
      "cell_type": "code",
      "metadata": {
        "id": "s3n2E_ENJgCV",
        "colab_type": "code",
        "colab": {
          "base_uri": "https://localhost:8080/",
          "height": 34
        },
        "outputId": "167e34c1-d6f2-4628-fd7c-a5d233d21f52"
      },
      "source": [
        "print(ann.predict(sc.transform([[1, 0, 0, 600, 1, 40, 3, 60000, 2, 1, 1, 50000]])) > 0.5)"
      ],
      "execution_count": null,
      "outputs": [
        {
          "output_type": "stream",
          "text": [
            "[[False]]\n"
          ],
          "name": "stdout"
        }
      ]
    },
    {
      "cell_type": "code",
      "metadata": {
        "id": "UrY1SGjvMqin",
        "colab_type": "code",
        "colab": {
          "base_uri": "https://localhost:8080/",
          "height": 136
        },
        "outputId": "ecde53fb-15f8-40e1-ce2b-7f83e159880d"
      },
      "source": [
        "y_pred = ann.predict(X_test)\n",
        "y_pred = (y_pred > 0.5)\n",
        "print(np.concatenate((y_pred.reshape(len(y_pred),1), y_test.reshape(len(y_test),1)),1))"
      ],
      "execution_count": null,
      "outputs": [
        {
          "output_type": "stream",
          "text": [
            "[[0 0]\n",
            " [0 1]\n",
            " [0 0]\n",
            " ...\n",
            " [0 0]\n",
            " [0 0]\n",
            " [0 0]]\n"
          ],
          "name": "stdout"
        }
      ]
    },
    {
      "cell_type": "code",
      "metadata": {
        "id": "luZlumFkN91q",
        "colab_type": "code",
        "colab": {
          "base_uri": "https://localhost:8080/",
          "height": 68
        },
        "outputId": "d5acadab-afc7-4b02-b66f-e0379c3f7111"
      },
      "source": [
        "from sklearn.metrics import confusion_matrix, accuracy_score\n",
        "cm = confusion_matrix(y_test, y_pred)\n",
        "print(cm)\n",
        "accuracy_score(y_test, y_pred)"
      ],
      "execution_count": null,
      "outputs": [
        {
          "output_type": "stream",
          "text": [
            "[[1529   66]\n",
            " [ 205  200]]\n"
          ],
          "name": "stdout"
        },
        {
          "output_type": "execute_result",
          "data": {
            "text/plain": [
              "0.8645"
            ]
          },
          "metadata": {
            "tags": []
          },
          "execution_count": 22
        }
      ]
    }
  ]
}